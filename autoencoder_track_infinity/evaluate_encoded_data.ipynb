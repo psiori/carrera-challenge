{
 "cells": [
  {
   "cell_type": "code",
   "execution_count": null,
   "metadata": {},
   "outputs": [],
   "source": [
    "import numpy as np\n",
    "import tensorflow as tf\n",
    "\n",
    "from sklearn.ensemble import RandomForestRegressor\n",
    "from sklearn.model_selection import cross_val_score\n",
    "\n",
    "import plotly.graph_objs as go\n",
    "from plotly.offline import plot, iplot, init_notebook_mode\n",
    "\n",
    "init_notebook_mode(connected=True)\n",
    "\n",
    "#plotly.io.orca.config.executable = '/path/to/orca'\n"
   ]
  },
  {
   "cell_type": "code",
   "execution_count": null,
   "metadata": {},
   "outputs": [],
   "source": [
    "def evaluate(_enc_data: np.ndarray, _range_gt: np.ndarray) -> np.float:\n",
    "    clf = RandomForestRegressor(max_depth= 5, n_estimators = 5, random_state=0)\n",
    "    xy_range_gt = np.array([np.sin(_range_gt), np.cos(_range_gt)]).T\n",
    "    \n",
    "    N = _range_gt.shape[0]\n",
    "    \n",
    "    range_diff_all = np.zeros(0)\n",
    "    range_predict_all = np.zeros(0)\n",
    "    \n",
    "    X = _enc_data\n",
    "    y = xy_range_gt\n",
    "    for i in range(10):\n",
    "        ind_i = np.arange(np.int(i*N/10), np.int((i+1)*N/10))\n",
    "        ind_i_rest = np.append(np.arange(0, np.int(i*N/10)), np.arange(np.int((i+1)*N/10), N))\n",
    "        X_i = X[ind_i]\n",
    "        X_i_rest = X[ind_i_rest]\n",
    "        y_i = y[ind_i]\n",
    "        y_i_rest = y[ind_i_rest]\n",
    "        clf.fit(X_i_rest, y_i_rest)\n",
    "\n",
    "        y_i_pred = clf.predict(X_i)\n",
    "\n",
    "        range_predict = np.arctan2(y_i_pred[:,1], y_i_pred[:,0])\n",
    "\n",
    "        range_gt = np.arctan2(y_i[:,1], y_i[:,0])\n",
    "\n",
    "        range_diff = range_predict-range_gt\n",
    "\n",
    "        range_diff = np.arctan2(np.sin(range_diff), np.cos(range_diff))\n",
    "\n",
    "        range_diff_all = np.append(range_diff_all, range_diff)\n",
    "        range_predict_all = np.append(range_predict_all, range_predict)\n",
    "    \n",
    "    return np.sqrt(np.sum(np.square(range_diff_all))/len(range_diff_all)), range_predict_all\n",
    "\n",
    "def visualize(enc_data: np.ndarray, color_column):\n",
    "    '''Used to visualize some of the embedding'''\n",
    "    \n",
    "    if enc_data.shape[1] == 2:\n",
    "        scatter = go.Scatter3d(x=enc_data[:, 0], y=enc_data[:, 1], z=np.zeros(enc_data.shape[0]), mode='markers',\n",
    "                               marker=dict(size=3, color=color_column, colorscale='viridis', opacity=1))\n",
    "    elif enc_data.shape[1] == 3:\n",
    "        scatter = go.Scatter3d(x=enc_data[:, 0], y=enc_data[:, 1], z=enc_data[:, 2], mode='markers',\n",
    "                               marker=dict(size=3, color=color_column, colorscale='viridis', opacity=1))\n",
    "    else:\n",
    "        print(\"error: encoded data has neither 2 or 3 dimensions\")\n",
    "        return\n",
    "    \n",
    "    camera = dict(\n",
    "        eye=dict(x=-2, y=-0.5, z=0.5)\n",
    "    )\n",
    "\n",
    "    layout = go.Layout(\n",
    "        margin=dict(\n",
    "            l=0,\n",
    "            r=0,\n",
    "            b=0,\n",
    "            t=0\n",
    "        ),\n",
    "        scene=dict(camera=camera),\n",
    "    )\n",
    "    \n",
    "    fig = go.Figure(data=[scatter], layout=layout)\n",
    "    iplot(fig)\n",
    "    return fig"
   ]
  },
  {
   "cell_type": "code",
   "execution_count": null,
   "metadata": {},
   "outputs": [],
   "source": [
    "\n",
    "#### loading range ground truth ####\n",
    "\n",
    "range_gt = np.load('data/range_ground_truth_train.npy')\n",
    "print('range ground truth:', range_gt.shape)\n",
    "\n",
    "#### loading images ####\n",
    "\n",
    "x = np.load('data/images_train.npy')\n"
   ]
  },
  {
   "cell_type": "code",
   "execution_count": null,
   "metadata": {},
   "outputs": [],
   "source": [
    "\n",
    "#### loading your model ####\n",
    "encoder = tf.keras.models.load_model('models/encoder_model.h5')\n",
    "encoder.load_weights('models/encoder_weights')\n",
    "\n",
    "#### your preprocessing method ####\n",
    "def preprocessing(x):\n",
    "    return x\n"
   ]
  },
  {
   "cell_type": "code",
   "execution_count": null,
   "metadata": {},
   "outputs": [],
   "source": [
    "\n",
    "#### infer encoded data ####\n",
    "\n",
    "x = preprocessing(x)\n",
    "enc_data = encoder.predict(x)\n",
    "\n",
    "\n",
    "#### for benchmark load encrypted data #####\n",
    "#enc_data = np.load('benchmark_enc_data_train.npy')\n"
   ]
  },
  {
   "cell_type": "code",
   "execution_count": null,
   "metadata": {
    "scrolled": true
   },
   "outputs": [],
   "source": [
    "\n",
    "#### evaluate encoded data #####\n",
    "\n",
    "std, range_predict = evaluate(enc_data, range_gt)\n",
    "print(\"std:\", std)"
   ]
  },
  {
   "cell_type": "code",
   "execution_count": null,
   "metadata": {},
   "outputs": [],
   "source": [
    "\n",
    "#### visualize encoded data #####\n",
    "\n",
    "fig = visualize(enc_data, range_predict)\n",
    "\n",
    "fig.write_image('enc_data.png')\n"
   ]
  }
 ],
 "metadata": {
  "kernelspec": {
   "display_name": ".venv",
   "language": "python",
   "name": ".venv"
  },
  "language_info": {
   "codemirror_mode": {
    "name": "ipython",
    "version": 3
   },
   "file_extension": ".py",
   "mimetype": "text/x-python",
   "name": "python",
   "nbconvert_exporter": "python",
   "pygments_lexer": "ipython3",
   "version": "3.6.9"
  }
 },
 "nbformat": 4,
 "nbformat_minor": 2
}
