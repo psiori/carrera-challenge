{
 "cells": [
  {
   "cell_type": "code",
   "execution_count": 4,
   "metadata": {},
   "outputs": [],
   "source": [
    "import os\n",
    "import numpy as np\n",
    "\n",
    "## exclude debugging information \n",
    "import logging\n",
    "logger = logging.getLogger()\n",
    "logger.setLevel(level=logging.INFO)\n"
   ]
  },
  {
   "cell_type": "code",
   "execution_count": 9,
   "metadata": {},
   "outputs": [],
   "source": [
    "# ImageDataset inherits from Dataset (PyTorch)\n",
    "# -> probably you want to use it to load the data sequentially\n",
    "from torch.utils.data import Dataset, DataLoader, random_split\n",
    "from ImageDataset import ImageDataset\n",
    "\n",
    "    "
   ]
  },
  {
   "cell_type": "code",
   "execution_count": 10,
   "metadata": {},
   "outputs": [
    {
     "name": "stderr",
     "output_type": "stream",
     "text": [
      "INFO:root:dataset size: 1600\n",
      "INFO:root:trainset size: 1280\n",
      "INFO:root:valset size: 320\n",
      "INFO:root:shape x: (160, 304, 808, 3)\n",
      "INFO:root:shape x: (160, 304, 808, 3)\n",
      "INFO:root:shape x: (160, 304, 808, 3)\n",
      "INFO:root:shape x: (160, 304, 808, 3)\n",
      "INFO:root:shape x: (160, 304, 808, 3)\n",
      "INFO:root:shape x: (160, 304, 808, 3)\n",
      "INFO:root:shape x: (160, 304, 808, 3)\n",
      "INFO:root:shape x: (160, 304, 808, 3)\n"
     ]
    }
   ],
   "source": [
    "# example how to use dataset\n",
    "\n",
    "TRAIN_DATA_PATH = \"./data/imgs\"\n",
    "\n",
    "# 1. creating dataset\n",
    "image_dataset = ImageDataset(TRAIN_DATA_PATH)\n",
    "dataset_size = len(image_dataset)\n",
    "logging.info('dataset size: ' + str(dataset_size))\n",
    "    \n",
    "# 2. splitting dataset\n",
    "valset_size = int(dataset_size*0.2)\n",
    "trainset_size = dataset_size - valset_size\n",
    "splitted_datasets_sizes = [trainset_size, valset_size]\n",
    "trainset, valset = random_split(image_dataset, splitted_datasets_sizes)\n",
    "logging.info('trainset size: ' + str(trainset_size))\n",
    "logging.info('valset size: ' + str(valset_size))\n",
    "\n",
    "# 3. creating dataloaders\n",
    "trainset_loader = DataLoader(trainset, batch_size=160, shuffle=True, num_workers=4)\n",
    "valset_loader = DataLoader(valset, batch_size=160, shuffle=True, num_workers=4)\n",
    "\n",
    "# 4. iterating over dataloader\n",
    "for i, x in enumerate(trainset_loader, 0):\n",
    "    x = x.numpy()\n",
    "    logging.info('shape x: ' + str(x.shape))"
   ]
  }
 ],
 "metadata": {
  "kernelspec": {
   "display_name": "pytorch",
   "language": "python",
   "name": "pytorch"
  },
  "language_info": {
   "codemirror_mode": {
    "name": "ipython",
    "version": 3
   },
   "file_extension": ".py",
   "mimetype": "text/x-python",
   "name": "python",
   "nbconvert_exporter": "python",
   "pygments_lexer": "ipython3",
   "version": "3.6.9"
  }
 },
 "nbformat": 4,
 "nbformat_minor": 2
}
